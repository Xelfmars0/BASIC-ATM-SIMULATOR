{
 "cells": [
  {
   "cell_type": "markdown",
   "id": "25c5f27d-4be6-4f23-a56c-3fc51fa8422f",
   "metadata": {},
   "source": [
    "# ATM SIMULATOR\n"
   ]
  },
  {
   "cell_type": "code",
   "execution_count": 3,
   "id": "9075584b-f0e6-4d69-b413-4fedd1391908",
   "metadata": {},
   "outputs": [
    {
     "name": "stdout",
     "output_type": "stream",
     "text": [
      "WELCOME TO XELIFY BANK, USE THE OPTIONS BELOW TO BANK WITH US\n",
      "1 → Check Balance\n",
      "2 → Deposit Money\n",
      "3 → Withdraw Money\n",
      "4 → Exit\n"
     ]
    },
    {
     "name": "stdin",
     "output_type": "stream",
     "text": [
      "Press the digit corresponding to the action you want to carry out:  2\n",
      "Please input the amount you want to deposit today: ₦ 5000\n"
     ]
    },
    {
     "name": "stdout",
     "output_type": "stream",
     "text": [
      "Your new balance is :₦ 7,000.00\n",
      "1 → Check Balance\n",
      "2 → Deposit Money\n",
      "3 → Withdraw Money\n",
      "4 → Exit\n"
     ]
    },
    {
     "name": "stdin",
     "output_type": "stream",
     "text": [
      "Press the digit corresponding to the action you want to carry out:  3\n",
      "Please input the amount you want to withdraw today: ₦ 8000\n"
     ]
    },
    {
     "name": "stdout",
     "output_type": "stream",
     "text": [
      "You do not have enough balance to withdraw this amount, Your current balance is :₦ 7,000.00\n"
     ]
    },
    {
     "name": "stdin",
     "output_type": "stream",
     "text": [
      "Please input the amount you want to withdraw today: ₦ FSRGR\n"
     ]
    },
    {
     "name": "stdout",
     "output_type": "stream",
     "text": [
      "Please input a valid number\n"
     ]
    },
    {
     "name": "stdin",
     "output_type": "stream",
     "text": [
      "Please input the amount you want to withdraw today: ₦ 7000\n"
     ]
    },
    {
     "name": "stdout",
     "output_type": "stream",
     "text": [
      "Here's your cash, Your new balance is :₦ 0.00\n",
      "1 → Check Balance\n",
      "2 → Deposit Money\n",
      "3 → Withdraw Money\n",
      "4 → Exit\n"
     ]
    },
    {
     "name": "stdin",
     "output_type": "stream",
     "text": [
      "Press the digit corresponding to the action you want to carry out:  1\n"
     ]
    },
    {
     "name": "stdout",
     "output_type": "stream",
     "text": [
      "Your current balance is :₦ 0.00\n",
      "1 → Check Balance\n",
      "2 → Deposit Money\n",
      "3 → Withdraw Money\n",
      "4 → Exit\n"
     ]
    },
    {
     "name": "stdin",
     "output_type": "stream",
     "text": [
      "Press the digit corresponding to the action you want to carry out:  4\n"
     ]
    },
    {
     "name": "stdout",
     "output_type": "stream",
     "text": [
      "Thank you for banking with us, GOODBYE\n"
     ]
    }
   ],
   "source": [
    "## The balance to begin with is 2000 naira\n",
    "balance=2000\n",
    "print('WELCOME TO XELIFY BANK, USE THE OPTIONS BELOW TO BANK WITH US')\n",
    "\n",
    "#The function to run the ATM logic is stored in atm_machine\n",
    "def atm_machine():\n",
    "    balance=2000\n",
    "    while True:\n",
    "        print('''1 → Check Balance\n",
    "2 → Deposit Money\n",
    "3 → Withdraw Money\n",
    "4 → Exit''')\n",
    "\n",
    "        resp=input('Press the digit corresponding to the action you want to carry out: ')\n",
    "        if resp == '1':\n",
    "            print(f'Your current balance is :₦ {balance:,.2f}')\n",
    "        elif resp =='2':\n",
    "            while True:\n",
    "                try:\n",
    "                    deposit=float(input('Please input the amount you want to deposit today: ₦'))\n",
    "                    if deposit >= 0:\n",
    "                        balance+=deposit\n",
    "                        print(f'Your new balance is :₦ {balance:,.2f}')\n",
    "                        break\n",
    "                        #This while loops allows the user to input the correct format before heading to the home menu\n",
    "                    else:\n",
    "                        print('Please enter a positive amount to deposit')\n",
    "                except ValueError:\n",
    "                    print('Please input a valid number')\n",
    "        elif resp =='3':\n",
    "            while True:\n",
    "                try:\n",
    "                    withdraw=float(input('Please input the amount you want to withdraw today: ₦'))\n",
    "                    if withdraw >= 0 and withdraw <= balance:\n",
    "                        balance-=withdraw\n",
    "                        print(f'Here\\'s your cash, Your new balance is :₦ {balance:,.2f}')\n",
    "                        break\n",
    "                         #This while loops also allows the user to input the correct format before heading to the home menu\n",
    "                    elif withdraw > balance:\n",
    "                        print(f'You do not have enough balance to withdraw this amount, Your current balance is :₦ {balance:,.2f}')\n",
    "                    else:\n",
    "                        print('Please enter a postive amount to withdraw')\n",
    "                except ValueError:\n",
    "                    print('Please input a valid number')\n",
    "        elif resp =='4':\n",
    "            print('Thank you for banking with us, GOODBYE')\n",
    "            break\n",
    "        else:\n",
    "            print('Please input a valid response between 1-4')\n",
    "            #incase a value apart from 1 to 4 is entered, this can be any other number or a string\n",
    "            \n",
    "\n",
    "#Calling the dictionary function          \n",
    "atm_machine()    "
   ]
  },
  {
   "cell_type": "code",
   "execution_count": null,
   "id": "94521d38-4c7c-458e-b31c-a2f80f3e0611",
   "metadata": {},
   "outputs": [],
   "source": []
  }
 ],
 "metadata": {
  "kernelspec": {
   "display_name": "Python 3 (ipykernel)",
   "language": "python",
   "name": "python3"
  },
  "language_info": {
   "codemirror_mode": {
    "name": "ipython",
    "version": 3
   },
   "file_extension": ".py",
   "mimetype": "text/x-python",
   "name": "python",
   "nbconvert_exporter": "python",
   "pygments_lexer": "ipython3",
   "version": "3.13.5"
  }
 },
 "nbformat": 4,
 "nbformat_minor": 5
}
